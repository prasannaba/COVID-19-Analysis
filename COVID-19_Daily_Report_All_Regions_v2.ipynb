{
 "cells": [
  {
   "cell_type": "markdown",
   "metadata": {},
   "source": [
    "# COVID-19 Daily Report All Regions\n",
    "### Deployment on web server (local host or cloud provider)\n",
    "\n",
    "## Author: Prasanna Badami"
   ]
  },
  {
   "cell_type": "markdown",
   "metadata": {},
   "source": [
    "### <font size = '4'> Note:\n",
    "<font size = '3'> 1. This source code runs in Jupyter notebook with environment meeting all requirements libraries used in this source code. <br>\n",
    "<font size = '3'> 2. This file needs internet connection, it downloads an input file from CSSEGISandData repository on GitHub. Internet charges may apply. <br>\n",
    "    ###################### Important ########################################## <br>\n",
    "<font size = '3'> 3. Standalone HTML will not get created, because the code is in pure Python. <br>\n",
    "<font size = '3'> 4. To get the output in web browser similar to standalone interactive HTML without exposing code, you need to use Bokeh server deployment, which deploys output of this source code on local system or cloud provider. This is done by adding panel.servable() in source file & launching the app using 'panel serve sourcefile.ipynb' at command prompt "
   ]
  },
  {
   "cell_type": "code",
   "execution_count": null,
   "metadata": {},
   "outputs": [],
   "source": [
    "import pandas as pd\n",
    "from datetime import datetime, timedelta\n",
    "import numpy as np"
   ]
  },
  {
   "cell_type": "code",
   "execution_count": null,
   "metadata": {},
   "outputs": [],
   "source": [
    "from bokeh.models import HoverTool, NumeralTickFormatter, Div\n",
    "from bokeh.layouts import gridplot\n",
    "import holoviews as hv\n",
    "hv.extension('bokeh')\n",
    "import panel as pn\n",
    "pn.extension()\n",
    "import hvplot.pandas"
   ]
  },
  {
   "cell_type": "code",
   "execution_count": null,
   "metadata": {},
   "outputs": [],
   "source": [
    "date_on_file_today = datetime.today().strftime('%m-%d-%Y')"
   ]
  },
  {
   "cell_type": "code",
   "execution_count": null,
   "metadata": {},
   "outputs": [],
   "source": [
    "date_on_file_yesterday =  (datetime.today() - timedelta(days = 1)).strftime('%m-%d-%Y')"
   ]
  },
  {
   "cell_type": "code",
   "execution_count": null,
   "metadata": {},
   "outputs": [],
   "source": [
    "date_on_file_day_b4_yesterday = (datetime.today() - timedelta(days = 2)).strftime('%m-%d-%Y')"
   ]
  },
  {
   "cell_type": "code",
   "execution_count": null,
   "metadata": {},
   "outputs": [],
   "source": [
    "# First try to get file with today's date, if not available,\n",
    "# try with yesterday's date, if not available,\n",
    "# try with day before yesterday's date, if not available \n",
    "# assign empty dataframe to df_daily_report, this dataframe is for checked contents in next cell."
   ]
  },
  {
   "cell_type": "code",
   "execution_count": null,
   "metadata": {},
   "outputs": [],
   "source": [
    "date_on_file_yesterday =  (datetime.today() - timedelta(days = 1)).strftime('%m-%d-%Y')"
   ]
  },
  {
   "cell_type": "code",
   "execution_count": null,
   "metadata": {},
   "outputs": [],
   "source": [
    "date_onfile_day_b4_yesterday = (datetime.today() - timedelta(days = 2)).strftime('%m-%d-%Y')"
   ]
  },
  {
   "cell_type": "code",
   "execution_count": null,
   "metadata": {},
   "outputs": [],
   "source": [
    "date_on_report = 'today'"
   ]
  },
  {
   "cell_type": "code",
   "execution_count": null,
   "metadata": {},
   "outputs": [],
   "source": [
    "try:\n",
    "    df_daily_report = pd.read_csv('https://raw.githubusercontent.com/CSSEGISandData/COVID-19/master/csse_covid_19_data/csse_covid_19_daily_reports/'+ date_on_file_today + '.csv')\n",
    "    date_on_report = date_on_file_today\n",
    "    print('Selected %s.csv' % date_on_file_today)\n",
    "except:\n",
    "    try:\n",
    "        df_daily_report = pd.read_csv('https://raw.githubusercontent.com/CSSEGISandData/COVID-19/master/csse_covid_19_data/csse_covid_19_daily_reports/'+ date_on_file_yesterday + '.csv')\n",
    "        date_on_report = date_on_file_yesterday\n",
    "        print('Selected %s.csv' % date_on_file_yesterday)\n",
    "    except:\n",
    "        try:\n",
    "            df_daily_report = pd.read_csv('https://raw.githubusercontent.com/CSSEGISandData/COVID-19/master/csse_covid_19_data/csse_covid_19_daily_reports/'+ date_on_file_day_b4_yesterday + '.csv')\n",
    "            date_on_report = date_on_file_day_b4_yesterday\n",
    "            print('Selected %s.csv' % date_on_file_day_b4_yesterday)\n",
    "        except:\n",
    "            df_daily_report = pd.DataFrame()\n",
    "            print('HTTPError: HTTP Error 404: File Not Found')"
   ]
  },
  {
   "cell_type": "code",
   "execution_count": null,
   "metadata": {},
   "outputs": [],
   "source": [
    "# df_daily_report"
   ]
  },
  {
   "cell_type": "code",
   "execution_count": null,
   "metadata": {},
   "outputs": [],
   "source": [
    "pn_dashboard = pn.Column(Div(text = 'HTTPError: HTTP Error 404: Input file for ' + str(date_on_file_today) + ' or ' \\\n",
    "                             +  str(date_on_file_yesterday) + ' or ' + str(date_on_file_day_b4_yesterday) + ' not found on GitHub', width = 925))\n",
    "if (df_daily_report.empty == True):\n",
    "#     Disable GUI & all analysis here as file is not found.\n",
    "    print('Since file is not found on server, dataframe is assigned to empty. Not proceeding with further analysis')\n",
    "else:\n",
    "    last_update = df_daily_report['Last_Update'][0]\n",
    "    print('Last update date: ' + last_update)\n",
    "    metrics= ['Active', 'Deaths', 'Recovered', 'Confirmed']\n",
    "    # make sure variable names are proper & uniform..\n",
    "    country_name = pn.widgets.Select(name = 'Country', options = df_daily_report['Country_Region'].unique().tolist(), width = 250)\n",
    "\n",
    "    # Update province_state dynamically based on country_region later in the code\n",
    "    province_state = pn.widgets.Select(name = 'Province', options = [' '], width = 275)\n",
    "    # Update Admin2 based on province_stat2\n",
    "    admin2 = pn.widgets.Select(name = 'County', options = [' '], width = 200)\n",
    "    \n",
    "    footer = Div(text = \"\"\"Graphic: Prasanna Badami \n",
    "                    <div>Source: Center for Systems Science & Engineering, Johns Hopkins University</div> \n",
    "                    <div>Last update: {} </div> \n",
    "                    <div style = \"font-size:12px\"> Note:</div>\n",
    "                    <div style = \"font-size:12px\"><i><t>Incident rate is calculated as confirmed cases per 100,000 population.</i></div>\n",
    "                    <div style = \"font-size:12px\"><i> Case fatality ratio is the ratio of deaths to confirmed cases.</i></div>\n",
    "                    \"\"\".format(last_update),  \n",
    "                 width = 1230,\n",
    "                 background = 'white',\n",
    "                )\n",
    "\n",
    "    hover_tool_daily = HoverTool(tooltips = [('Metric', '@Variable'), ('Cases', '@value{0,}')])\n",
    "\n",
    "    @pn.depends(country_name.param.value)\n",
    "    def UpdateProvinceList(country_name):\n",
    "    #     First select country\n",
    "        select_country = df_daily_report[df_daily_report['Country_Region'].isin([country_name])]\n",
    "    #     Select provinces of the country\n",
    "        checkprovince4nan = select_country['Province_State'].unique().tolist()\n",
    "        province_state.options = checkprovince4nan\n",
    "\n",
    "    @pn.depends(province_state.param.value)\n",
    "    def UpdateAdmin2List(province_name):\n",
    "    #     First select country\n",
    "        select_country = df_daily_report[df_daily_report['Country_Region'].isin([country_name.value])]\n",
    "    #     Select counties of the province of the country\n",
    "        checkcounties4nan = select_country[select_country['Province_State'].isin([province_name])]['Admin2'].values.tolist()\n",
    "        admin2.options = checkcounties4nan\n",
    "\n",
    "\n",
    "    @pn.depends(province_state.param.value, country_name.param.value, admin2.param.value)\n",
    "    def UpdatePlot(province_state, country_name, admin2):\n",
    "    #     Refer to dataframe to understand below comments.\n",
    "    #     Select the country, province & county to display\n",
    "    #     You will displaying which is not 'nan' in order country, province, county with column 'metrics', selected in hvplot.\n",
    "    #     if province is 'nan' & admin2 is 'nan', you will anyway displaying the graph at the country level.\n",
    "    #     if province is not 'nan' & admin2 is 'nan', you will be displaying the graph at the province level\n",
    "    #     if province is not 'nan' & admin2 is not 'nan', you will be displaying the graph at the admin2 level\n",
    "    #     No need for checking for using conditional statements to check for 'nan', it doesn't matter\n",
    "        select_country = df_daily_report[df_daily_report['Country_Region'].isin([country_name])]\n",
    "        select_province = select_country[select_country['Province_State'].isin([province_state])]\n",
    "        plot = select_province[select_province['Admin2'].isin([admin2])].hvplot(kind = 'bar', x = 'Country_Region', y = metrics,\n",
    "                                                                                ylabel = 'COVID-19 Cases', xlabel = 'Country_Region',\n",
    "                                                                                color = ['orange', 'red', 'lawngreen','royalblue']\n",
    "                                                                               )\n",
    "\n",
    "        bkf = hv.render(plot.opts(width = 800, height = 500, bar_width = 0.4, tools = [hover_tool_daily]))\n",
    "       \n",
    "        bkf.toolbar_location = None\n",
    "        \n",
    "        bkf.xaxis.axis_label_text_font_style = 'bold'\n",
    "        bkf.xaxis.major_label_text_font_style = 'bold'\n",
    "    \n",
    "        bkf.y_range.start = 0\n",
    "        bkf.yaxis.formatter = NumeralTickFormatter(format = 'a')\n",
    "        bkf.yaxis.axis_label_text_font_style = 'bold'\n",
    "        bkf.yaxis.major_label_text_font_style = 'bold'\n",
    "        \n",
    "        \n",
    "        bkt = hv.render(hv.Table(select_province[select_province['Admin2'].isin([admin2])][['Incident_Rate', 'Case_Fatality_Ratio']].round(2)))\n",
    "        if (str(province_state) == 'nan'):\n",
    "            bkf.title.text = 'Daily Report: ' + country_name + ' | ' +  'Last update: ' + str(last_update)\n",
    "        elif(str(admin2) == 'nan'):\n",
    "            bkf.title.text = 'Daily Report: ' + country_name + ' | ' + 'Province: ' + str(province_state) + ' | ' + 'Last update: ' + str(last_update)\n",
    "        else:\n",
    "            bkf.title.text = 'Daily Report: ' + country_name + ' | ' + 'Province: ' + str(province_state) + ' | ' + 'County: ' + str(admin2) + ' | ' + 'Last update: ' + str(last_update)\n",
    "\n",
    "        return(gridplot(children = [[bkf, bkt]], merge_tools = False))\n",
    "\n",
    "    pn_dashboard = pn.Column(pn.WidgetBox(pn.Row(country_name, province_state, admin2), UpdateProvinceList, UpdateAdmin2List, UpdatePlot, footer))\n",
    "\n",
    "# To deploy this source code on local system or cloud using Bokeh server\n",
    "pn_dashboard.servable(title = 'COVID-19_Daily_Report_All_Regions_'+str(date_on_report))\n",
    "\n",
    "\n",
    "# To launch the server, run command 'panel serve COVID-19_Daily_Report_All_Regions_v2.ipynb' at command prompt\n",
    "# The app is deployed (default port: 5006) at http://localhost:5006/COVID-19_Daily_Report_All_Regions_v2"
   ]
  },
  {
   "cell_type": "code",
   "execution_count": null,
   "metadata": {},
   "outputs": [],
   "source": [
    "pn_dashboard"
   ]
  },
  {
   "cell_type": "code",
   "execution_count": null,
   "metadata": {},
   "outputs": [],
   "source": []
  }
 ],
 "metadata": {
  "kernelspec": {
   "display_name": "Python 3",
   "language": "python",
   "name": "python3"
  },
  "language_info": {
   "codemirror_mode": {
    "name": "ipython",
    "version": 3
   },
   "file_extension": ".py",
   "mimetype": "text/x-python",
   "name": "python",
   "nbconvert_exporter": "python",
   "pygments_lexer": "ipython3",
   "version": "3.8.5"
  }
 },
 "nbformat": 4,
 "nbformat_minor": 4
}
